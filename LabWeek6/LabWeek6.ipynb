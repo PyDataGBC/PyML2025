{
 "cells": [
  {
   "cell_type": "markdown",
   "metadata": {
    "id": "zsMpAhH1oabc"
   },
   "source": [
    "# Lab Week 6: Review on Classification and Regression"
   ]
  },
  {
   "cell_type": "markdown",
   "metadata": {
    "id": "pDptzraOoabj"
   },
   "source": [
    "## Part A: Classifying newswires: A multiclass classification example"
   ]
  },
  {
   "cell_type": "markdown",
   "metadata": {
    "id": "kbuoLXkkoabp"
   },
   "source": [
    "### The Reuters dataset"
   ]
  },
  {
   "cell_type": "markdown",
   "metadata": {
    "id": "fOE-DQHvoabp"
   },
   "source": [
    "**Loading the Reuters dataset**"
   ]
  },
  {
   "cell_type": "code",
   "execution_count": 1,
   "metadata": {
    "colab": {
     "base_uri": "https://localhost:8080/"
    },
    "executionInfo": {
     "elapsed": 17485,
     "status": "ok",
     "timestamp": 1739222113477,
     "user": {
      "displayName": "Mehdi Abbasi Azad",
      "userId": "12903423591258086548"
     },
     "user_tz": 300
    },
    "id": "z7dxRHyfoabp",
    "outputId": "0238a8d3-0cad-456f-e1ad-c54d1c4d7292"
   },
   "outputs": [
    {
     "name": "stdout",
     "output_type": "stream",
     "text": [
      "Downloading data from https://storage.googleapis.com/tensorflow/tf-keras-datasets/reuters.npz\n",
      "\u001b[1m2110848/2110848\u001b[0m \u001b[32m━━━━━━━━━━━━━━━━━━━━\u001b[0m\u001b[37m\u001b[0m \u001b[1m1s\u001b[0m 0us/step\n"
     ]
    }
   ],
   "source": [
    "from tensorflow.keras.datasets import reuters\n",
    "(train_data, train_labels), (test_data, test_labels) = reuters.load_data(\n",
    "    num_words=10000)"
   ]
  },
  {
   "cell_type": "markdown",
   "metadata": {
    "id": "tvLN-Wv6nMlt"
   },
   "source": [
    "**Explore the data and shape of the data**"
   ]
  },
  {
   "cell_type": "code",
   "execution_count": null,
   "metadata": {
    "id": "McOrVZ7qtxGV"
   },
   "outputs": [],
   "source": []
  },
  {
   "cell_type": "code",
   "execution_count": null,
   "metadata": {
    "id": "kUK1gOWNtyg2"
   },
   "outputs": [],
   "source": []
  },
  {
   "cell_type": "code",
   "execution_count": null,
   "metadata": {
    "id": "NpL6aXYQty4K"
   },
   "outputs": [],
   "source": []
  },
  {
   "cell_type": "markdown",
   "metadata": {
    "id": "W_XsRPiBoabq"
   },
   "source": [
    "**Decoding newswires back to text**"
   ]
  },
  {
   "cell_type": "code",
   "execution_count": null,
   "metadata": {
    "colab": {
     "base_uri": "https://localhost:8080/"
    },
    "executionInfo": {
     "elapsed": 1415,
     "status": "ok",
     "timestamp": 1739222124637,
     "user": {
      "displayName": "Mehdi Abbasi Azad",
      "userId": "12903423591258086548"
     },
     "user_tz": 300
    },
    "id": "L6bXv33joabq",
    "outputId": "c9602702-bc70-4cac-d0bd-9fbf1189b7bd"
   },
   "outputs": [],
   "source": [
    "word_index = reuters.get_word_index()\n",
    "print(word_index)"
   ]
  },
  {
   "cell_type": "code",
   "execution_count": null,
   "metadata": {
    "colab": {
     "base_uri": "https://localhost:8080/"
    },
    "executionInfo": {
     "elapsed": 445,
     "status": "ok",
     "timestamp": 1739222129589,
     "user": {
      "displayName": "Mehdi Abbasi Azad",
      "userId": "12903423591258086548"
     },
     "user_tz": 300
    },
    "id": "8f3Y15FSndSB",
    "outputId": "37f9acbd-41f2-42ba-ac00-67b8968765ff"
   },
   "outputs": [],
   "source": [
    "word2id = word_index\n",
    "id2word = {v:k for k, v in word2id.items()}\n",
    "print(id2word)"
   ]
  },
  {
   "cell_type": "markdown",
   "metadata": {
    "id": "Bq5H8kfQpCP9"
   },
   "source": [
    "**Select one sample from train_data and decode it**\n",
    "\n",
    "**Note:** Don't forget to subtract 3 from the ids because the labels are 3 more than the actual ids in the dictionary."
   ]
  },
  {
   "cell_type": "code",
   "execution_count": null,
   "metadata": {
    "id": "a39BiVEmt7tx"
   },
   "outputs": [],
   "source": [
    "#your code here"
   ]
  },
  {
   "cell_type": "markdown",
   "metadata": {
    "id": "GP0419Iloabq"
   },
   "source": [
    "### Preparing the data"
   ]
  },
  {
   "cell_type": "markdown",
   "metadata": {
    "id": "L-NDqa5soabq"
   },
   "source": [
    "**Encoding the input data**"
   ]
  },
  {
   "cell_type": "code",
   "execution_count": 5,
   "metadata": {
    "executionInfo": {
     "elapsed": 528,
     "status": "ok",
     "timestamp": 1739222169030,
     "user": {
      "displayName": "Mehdi Abbasi Azad",
      "userId": "12903423591258086548"
     },
     "user_tz": 300
    },
    "id": "1hr405_Gk_Dv"
   },
   "outputs": [],
   "source": [
    "import numpy as np\n",
    "def vectorize_sequences(sequences, dimension=10000):\n",
    "    results = np.zeros((len(sequences), dimension))\n",
    "    for i, sequence in enumerate(sequences):\n",
    "        for j in sequence:\n",
    "            results[i, j] = 1.\n",
    "    return results\n",
    "x_train = vectorize_sequences(train_data)\n",
    "x_test = vectorize_sequences(test_data)"
   ]
  },
  {
   "cell_type": "code",
   "execution_count": 6,
   "metadata": {
    "executionInfo": {
     "elapsed": 1026,
     "status": "ok",
     "timestamp": 1739222172354,
     "user": {
      "displayName": "Mehdi Abbasi Azad",
      "userId": "12903423591258086548"
     },
     "user_tz": 300
    },
    "id": "bDm6EU-roabq"
   },
   "outputs": [],
   "source": [
    "x_train = vectorize_sequences(train_data)\n",
    "x_test = vectorize_sequences(test_data)"
   ]
  },
  {
   "cell_type": "code",
   "execution_count": null,
   "metadata": {},
   "outputs": [],
   "source": [
    "print(sorted(train_data[0]))"
   ]
  },
  {
   "cell_type": "code",
   "execution_count": null,
   "metadata": {
    "colab": {
     "base_uri": "https://localhost:8080/"
    },
    "executionInfo": {
     "elapsed": 3,
     "status": "ok",
     "timestamp": 1739222177891,
     "user": {
      "displayName": "Mehdi Abbasi Azad",
      "userId": "12903423591258086548"
     },
     "user_tz": 300
    },
    "id": "UwnyzcSPpwIR",
    "outputId": "a137c0f4-8f5d-4e64-ee1e-133674cc93f5"
   },
   "outputs": [
    {
     "name": "stdout",
     "output_type": "stream",
     "text": [
      "[0. 1. 1. ... 0. 0. 0.]\n"
     ]
    }
   ],
   "source": [
    "print(x_train[0][:100])"
   ]
  },
  {
   "cell_type": "markdown",
   "metadata": {
    "id": "krCP__iYoabq"
   },
   "source": [
    "**Encoding the labels**"
   ]
  },
  {
   "cell_type": "code",
   "execution_count": 8,
   "metadata": {
    "executionInfo": {
     "elapsed": 13,
     "status": "ok",
     "timestamp": 1739222190996,
     "user": {
      "displayName": "Mehdi Abbasi Azad",
      "userId": "12903423591258086548"
     },
     "user_tz": 300
    },
    "id": "Uw0f_DmVoabq"
   },
   "outputs": [],
   "source": [
    "from tensorflow.keras.utils import to_categorical\n",
    "\n",
    "y_train_one_hot = to_categorical(train_labels)\n",
    "y_test_one_hot = to_categorical(test_labels)"
   ]
  },
  {
   "cell_type": "code",
   "execution_count": 10,
   "metadata": {
    "colab": {
     "base_uri": "https://localhost:8080/"
    },
    "executionInfo": {
     "elapsed": 6,
     "status": "ok",
     "timestamp": 1739222239214,
     "user": {
      "displayName": "Mehdi Abbasi Azad",
      "userId": "12903423591258086548"
     },
     "user_tz": 300
    },
    "id": "pSFV8BYsqCff",
    "outputId": "ac0f221d-1692-495a-809b-f522831659bd"
   },
   "outputs": [
    {
     "name": "stdout",
     "output_type": "stream",
     "text": [
      "3\n",
      "[0. 0. 0. 1. 0. 0. 0. 0. 0. 0. 0. 0. 0. 0. 0. 0. 0. 0. 0. 0. 0. 0. 0. 0.\n",
      " 0. 0. 0. 0. 0. 0. 0. 0. 0. 0. 0. 0. 0. 0. 0. 0. 0. 0. 0. 0. 0. 0.]\n"
     ]
    }
   ],
   "source": [
    "print(train_labels[0])\n",
    "print(y_train_one_hot[0])"
   ]
  },
  {
   "cell_type": "code",
   "execution_count": 11,
   "metadata": {
    "executionInfo": {
     "elapsed": 3,
     "status": "ok",
     "timestamp": 1739222239931,
     "user": {
      "displayName": "Mehdi Abbasi Azad",
      "userId": "12903423591258086548"
     },
     "user_tz": 300
    },
    "id": "OpeqliuvuMvW"
   },
   "outputs": [],
   "source": [
    "y_train_integer = np.array(train_labels)\n",
    "y_test_integer = np.array(test_labels)"
   ]
  },
  {
   "cell_type": "code",
   "execution_count": 12,
   "metadata": {
    "colab": {
     "base_uri": "https://localhost:8080/"
    },
    "executionInfo": {
     "elapsed": 15,
     "status": "ok",
     "timestamp": 1739222241638,
     "user": {
      "displayName": "Mehdi Abbasi Azad",
      "userId": "12903423591258086548"
     },
     "user_tz": 300
    },
    "id": "TU-Al1dYuQsf",
    "outputId": "67535cec-1161-400a-d383-e5fffda7c81d"
   },
   "outputs": [
    {
     "data": {
      "text/plain": [
       "array([ 3,  4,  3, ..., 25,  3, 25])"
      ]
     },
     "execution_count": 12,
     "metadata": {},
     "output_type": "execute_result"
    }
   ],
   "source": [
    "y_train_integer"
   ]
  },
  {
   "cell_type": "markdown",
   "metadata": {
    "id": "TruznrqeuXdi"
   },
   "source": [
    "**Important Note:** You can use either the integer format or the one-hot format for your labels. The only difference is in the type of `loss`. For the one-hot format, use `loss=\"categorical_crossentropy\"`, and for the integer format, use `loss=\"sparse_categorical_crossentropy\"`."
   ]
  },
  {
   "cell_type": "markdown",
   "metadata": {
    "id": "lGcDWV9QvT4Q"
   },
   "source": [
    "### Neural Network Modeling"
   ]
  },
  {
   "cell_type": "markdown",
   "metadata": {
    "id": "G19e6kEQoabq"
   },
   "source": [
    "### Building your model"
   ]
  },
  {
   "cell_type": "markdown",
   "metadata": {
    "id": "byoC-RtYoabq"
   },
   "source": [
    "**Model definition**"
   ]
  },
  {
   "cell_type": "code",
   "execution_count": null,
   "metadata": {
    "id": "deSxea3qvj5_"
   },
   "outputs": [],
   "source": [
    "from tensorflow import keras\n",
    "from tensorflow.keras import layers\n",
    "\n",
    "#your code here"
   ]
  },
  {
   "cell_type": "markdown",
   "metadata": {
    "id": "-QM-epiUoabr"
   },
   "source": [
    "**Compiling the model**"
   ]
  },
  {
   "cell_type": "code",
   "execution_count": null,
   "metadata": {
    "id": "PscDGjPQvkv-"
   },
   "outputs": [],
   "source": []
  },
  {
   "cell_type": "markdown",
   "metadata": {
    "id": "jByLOKl0oabr"
   },
   "source": [
    "### Validating your approach"
   ]
  },
  {
   "cell_type": "markdown",
   "metadata": {
    "id": "9c99QvQWoabr"
   },
   "source": [
    "**Setting aside a validation set**"
   ]
  },
  {
   "cell_type": "code",
   "execution_count": 15,
   "metadata": {
    "executionInfo": {
     "elapsed": 39,
     "status": "ok",
     "timestamp": 1739222574654,
     "user": {
      "displayName": "Mehdi Abbasi Azad",
      "userId": "12903423591258086548"
     },
     "user_tz": 300
    },
    "id": "m9zoLVn0oabr"
   },
   "outputs": [],
   "source": [
    "x_val = x_train[:1000]\n",
    "partial_x_train = x_train[1000:]\n",
    "\n",
    "y_val = y_train_one_hot[:1000]\n",
    "partial_y_train = y_train_one_hot[1000:]\n",
    "\n"
   ]
  },
  {
   "cell_type": "markdown",
   "metadata": {},
   "source": [
    "**Note:** Uncomment the following lines if you decided to go with `interger` labels instead of `one-hot` labels."
   ]
  },
  {
   "cell_type": "code",
   "execution_count": null,
   "metadata": {},
   "outputs": [],
   "source": [
    "# y_val = y_train_integer[:1000]\n",
    "# partial_y_train = y_train_integer[1000:]"
   ]
  },
  {
   "cell_type": "markdown",
   "metadata": {
    "id": "QndzVD7ooabr"
   },
   "source": [
    "**Training the model**"
   ]
  },
  {
   "cell_type": "code",
   "execution_count": null,
   "metadata": {
    "id": "sMoc8WCBoabr"
   },
   "outputs": [],
   "source": [
    "history = model.fit(partial_x_train,\n",
    "                    partial_y_train,\n",
    "                    epochs=20,\n",
    "                    batch_size=512,\n",
    "                    validation_data=(x_val, y_val))"
   ]
  },
  {
   "cell_type": "markdown",
   "metadata": {
    "id": "vN55FvVeoabr"
   },
   "source": [
    "**Plotting the training and validation loss**"
   ]
  },
  {
   "cell_type": "code",
   "execution_count": null,
   "metadata": {
    "id": "9gAx_SMRvzb3"
   },
   "outputs": [],
   "source": []
  },
  {
   "cell_type": "markdown",
   "metadata": {
    "id": "fDdA1BbYoabr"
   },
   "source": [
    "**Plotting the training and validation accuracy**"
   ]
  },
  {
   "cell_type": "code",
   "execution_count": null,
   "metadata": {
    "id": "_p7bTjzpv0Rt"
   },
   "outputs": [],
   "source": []
  },
  {
   "cell_type": "markdown",
   "metadata": {
    "id": "RxCs9NxOoabr"
   },
   "source": [
    "**Retraining a model from scratch up to the epoch that overfitting starts**"
   ]
  },
  {
   "cell_type": "code",
   "execution_count": null,
   "metadata": {
    "id": "9guE3xFFv8Ce"
   },
   "outputs": [],
   "source": []
  },
  {
   "cell_type": "markdown",
   "metadata": {
    "id": "QTlTnhFcwm0-"
   },
   "source": [
    "**Evaluate the model**"
   ]
  },
  {
   "cell_type": "code",
   "execution_count": null,
   "metadata": {
    "id": "0l0hw9Xwwq1P"
   },
   "outputs": [],
   "source": []
  },
  {
   "cell_type": "markdown",
   "metadata": {
    "id": "uGKsI3ttoabs"
   },
   "source": [
    "### Generating predictions on new data"
   ]
  },
  {
   "cell_type": "markdown",
   "metadata": {
    "id": "0MHo5cHWxYh4"
   },
   "source": [
    "**What does your model predict for the label of the first sample in the test set?**"
   ]
  },
  {
   "cell_type": "code",
   "execution_count": null,
   "metadata": {
    "id": "PVzRlJwHxk_f"
   },
   "outputs": [],
   "source": []
  },
  {
   "cell_type": "markdown",
   "metadata": {
    "id": "JJ1Zc5uWxJ-Y"
   },
   "source": [
    "**Use the model to do prediction on all data ib `x_test`**"
   ]
  },
  {
   "cell_type": "code",
   "execution_count": null,
   "metadata": {
    "id": "zE3WWtqexWMG"
   },
   "outputs": [],
   "source": []
  },
  {
   "cell_type": "markdown",
   "metadata": {
    "id": "2FQDjd1soabs"
   },
   "source": [
    "## Part B: Predicting house prices: A regression example"
   ]
  },
  {
   "cell_type": "markdown",
   "metadata": {
    "id": "SbJC5s4loabs"
   },
   "source": [
    "### The Boston Housing Price dataset"
   ]
  },
  {
   "cell_type": "markdown",
   "metadata": {
    "id": "9ZOTF1rXoabt"
   },
   "source": [
    "**Loading the Boston housing dataset**"
   ]
  },
  {
   "cell_type": "code",
   "execution_count": null,
   "metadata": {
    "id": "aRamtz6Coabt"
   },
   "outputs": [],
   "source": [
    "from tensorflow.keras.datasets import boston_housing\n",
    "(train_data, train_targets), (test_data, test_targets) = boston_housing.load_data()"
   ]
  },
  {
   "cell_type": "markdown",
   "metadata": {
    "id": "ybj6Co2ZRY2D"
   },
   "source": [
    "**Print the data and find the shape of train and test data and targets**"
   ]
  },
  {
   "cell_type": "code",
   "execution_count": null,
   "metadata": {
    "id": "1KXExdi8RdTP"
   },
   "outputs": [],
   "source": [
    "#your code here"
   ]
  },
  {
   "cell_type": "markdown",
   "metadata": {
    "id": "AdHAUKEOoabt"
   },
   "source": [
    "### Preparing the data"
   ]
  },
  {
   "cell_type": "markdown",
   "metadata": {
    "id": "t_qGmsTsoabt"
   },
   "source": [
    "**Normalizing the data**"
   ]
  },
  {
   "cell_type": "markdown",
   "metadata": {
    "id": "WH03clyqRiyi"
   },
   "source": [
    "In the previous lab (**Lab 4 – MPG dataset**), we used:\n",
    "\n",
    "```python\n",
    "normalizer = tf.keras.layers.Normalization(axis=-1)\n",
    "```\n",
    "to normalize the input data for the model.\n",
    "\n",
    "This time, instead of using this layer, use NumPy methods to normalize the data.\n",
    "\n",
    "The formula for normalization is as follows:\n",
    "\n",
    "$$\n",
    "Z = \\frac{X - \\text{mean}}{\\text{std}}\n",
    "$$\n",
    "\n",
    "where \\(X\\) is a feature vector (a column from `train_data` or `test_data`), \\(\\text{mean}\\) is the average of the feature vector, and \\(\\text{std}\\) is the standard deviation.\n",
    "\n"
   ]
  },
  {
   "cell_type": "code",
   "execution_count": null,
   "metadata": {
    "id": "3mpUWvmxoabt"
   },
   "outputs": [],
   "source": [
    "mean = train_data.mean(axis=0)\n",
    "std = train_data.std(axis=0)\n",
    "train_data = (train_data - mean) / std\n",
    "\n",
    "test_data = (test_data - mean) / std # the same mean and std used for train\n"
   ]
  },
  {
   "cell_type": "markdown",
   "metadata": {
    "id": "zhoZky86j-nT"
   },
   "source": [
    "### Deep Learning Modeling\n",
    "\n",
    "- **Build you model**\n",
    "- **Compile the model**\n",
    "- **Train your model**\n",
    "- **Evaluate the trained model**\n",
    "- **Predict the price for test data**"
   ]
  },
  {
   "cell_type": "code",
   "execution_count": null,
   "metadata": {
    "id": "Yq7KksZ1kdAP"
   },
   "outputs": [],
   "source": [
    "#your code here"
   ]
  }
 ],
 "metadata": {
  "accelerator": "GPU",
  "colab": {
   "gpuType": "T4",
   "provenance": []
  },
  "kernelspec": {
   "display_name": "Python 3",
   "name": "python3"
  },
  "language_info": {
   "codemirror_mode": {
    "name": "ipython",
    "version": 3
   },
   "file_extension": ".py",
   "mimetype": "text/x-python",
   "name": "python",
   "nbconvert_exporter": "python",
   "pygments_lexer": "ipython3",
   "version": "3.7.0"
  }
 },
 "nbformat": 4,
 "nbformat_minor": 0
}
